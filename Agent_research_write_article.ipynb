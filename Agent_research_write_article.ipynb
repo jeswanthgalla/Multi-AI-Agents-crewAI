{
 "cells": [
  {
   "cell_type": "markdown",
   "metadata": {},
   "source": [
    "# L2: Create Agents to Research and Write an Article\n",
    "\n",
    "In this lesson, you will be introduced to the foundational concepts of multi-agent systems and get an overview of the crewAI framework."
   ]
  },
  {
   "cell_type": "markdown",
   "metadata": {},
   "source": [
    " Install the following:\n",
    "```Python\n",
    "!pip install crewai==0.28.8 crewai_tools==0.1.6 langchain_community==0.0.29\n",
    "```"
   ]
  },
  {
   "cell_type": "code",
   "execution_count": 1,
   "metadata": {
    "height": 64
   },
   "outputs": [],
   "source": [
    "# Warning control\n",
    "import warnings\n",
    "warnings.filterwarnings('ignore')"
   ]
  },
  {
   "cell_type": "markdown",
   "metadata": {},
   "source": [
    "- Import from the crewAI libray."
   ]
  },
  {
   "cell_type": "code",
   "execution_count": 2,
   "metadata": {
    "height": 30
   },
   "outputs": [],
   "source": [
    "from crewai import Agent, Task, Crew"
   ]
  },
  {
   "cell_type": "code",
   "execution_count": 3,
   "metadata": {
    "height": 98
   },
   "outputs": [],
   "source": [
    "import os\n",
    "from utils import get_openai_api_key\n",
    "\n",
    "openai_api_key = get_openai_api_key()\n",
    "os.environ[\"OPENAI_MODEL_NAME\"] = 'gpt-3.5-turbo'"
   ]
  },
  {
   "cell_type": "markdown",
   "metadata": {},
   "source": [
    "## Creating Agents\n",
    "\n",
    "- Define your Agents, and provide them a `role`, `goal` and `backstory`."
   ]
  },
  {
   "cell_type": "markdown",
   "metadata": {},
   "source": [
    "### Agent: Planner"
   ]
  },
  {
   "cell_type": "code",
   "execution_count": 4,
   "metadata": {
    "height": 249
   },
   "outputs": [],
   "source": [
    "planner = Agent(\n",
    "    role=\"Content Planner\",\n",
    "    goal=\"Plan engaging and factually accurate content on {topic}\",\n",
    "    backstory=\"You're working on planning a blog article \"\n",
    "              \"about the topic: {topic}.\"\n",
    "              \"You collect information that helps the \"\n",
    "              \"audience learn something \"\n",
    "              \"and make informed decisions. \"\n",
    "              \"Your work is the basis for \"\n",
    "              \"the Content Writer to write an article on this topic.\",\n",
    "    allow_delegation=False,\n",
    "\tverbose=True\n",
    ")"
   ]
  },
  {
   "cell_type": "markdown",
   "metadata": {},
   "source": [
    "### Agent: Writer"
   ]
  },
  {
   "cell_type": "code",
   "execution_count": 5,
   "metadata": {
    "height": 385
   },
   "outputs": [],
   "source": [
    "writer = Agent(\n",
    "    role=\"Content Writer\",\n",
    "    goal=\"Write insightful and factually accurate \"\n",
    "         \"opinion piece about the topic: {topic}\",\n",
    "    backstory=\"You're working on a writing \"\n",
    "              \"a new opinion piece about the topic: {topic}. \"\n",
    "              \"You base your writing on the work of \"\n",
    "              \"the Content Planner, who provides an outline \"\n",
    "              \"and relevant context about the topic. \"\n",
    "              \"You follow the main objectives and \"\n",
    "              \"direction of the outline, \"\n",
    "              \"as provide by the Content Planner. \"\n",
    "              \"You also provide objective and impartial insights \"\n",
    "              \"and back them up with information \"\n",
    "              \"provide by the Content Planner. \"\n",
    "              \"You acknowledge in your opinion piece \"\n",
    "              \"when your statements are opinions \"\n",
    "              \"as opposed to objective statements.\",\n",
    "    allow_delegation=False,\n",
    "    verbose=True\n",
    ")"
   ]
  },
  {
   "cell_type": "markdown",
   "metadata": {},
   "source": [
    "### Agent: Editor"
   ]
  },
  {
   "cell_type": "code",
   "execution_count": 6,
   "metadata": {
    "height": 283
   },
   "outputs": [],
   "source": [
    "editor = Agent(\n",
    "    role=\"Editor\",\n",
    "    goal=\"Edit a given blog post to align with \"\n",
    "         \"the writing style of the organization. \",\n",
    "    backstory=\"You are an editor who receives a blog post \"\n",
    "              \"from the Content Writer. \"\n",
    "              \"Your goal is to review the blog post \"\n",
    "              \"to ensure that it follows journalistic best practices,\"\n",
    "              \"provides balanced viewpoints \"\n",
    "              \"when providing opinions or assertions, \"\n",
    "              \"and also avoids major controversial topics \"\n",
    "              \"or opinions when possible.\",\n",
    "    allow_delegation=False,\n",
    "    verbose=True\n",
    ")"
   ]
  },
  {
   "cell_type": "markdown",
   "metadata": {},
   "source": [
    "## Creating Tasks\n",
    "\n",
    "- Define your Tasks, and provide them a `description`, `expected_output` and `agent`."
   ]
  },
  {
   "cell_type": "markdown",
   "metadata": {},
   "source": [
    "### Task: Plan"
   ]
  },
  {
   "cell_type": "code",
   "execution_count": 7,
   "metadata": {
    "height": 283
   },
   "outputs": [],
   "source": [
    "plan = Task(\n",
    "    description=(\n",
    "        \"1. Prioritize the latest trends, key players, \"\n",
    "            \"and noteworthy news on {topic}.\\n\"\n",
    "        \"2. Identify the target audience, considering \"\n",
    "            \"their interests and pain points.\\n\"\n",
    "        \"3. Develop a detailed content outline including \"\n",
    "            \"an introduction, key points, and a call to action.\\n\"\n",
    "        \"4. Include SEO keywords and relevant data or sources.\"\n",
    "    ),\n",
    "    expected_output=\"A comprehensive content plan document \"\n",
    "        \"with an outline, audience analysis, \"\n",
    "        \"SEO keywords, and resources.\",\n",
    "    agent=planner,\n",
    ")"
   ]
  },
  {
   "cell_type": "markdown",
   "metadata": {},
   "source": [
    "### Task: Write"
   ]
  },
  {
   "cell_type": "code",
   "execution_count": 8,
   "metadata": {
    "height": 319
   },
   "outputs": [],
   "source": [
    "write = Task(\n",
    "    description=(\n",
    "        \"1. Use the content plan to craft a compelling \"\n",
    "            \"blog post on {topic}.\\n\"\n",
    "        \"2. Incorporate SEO keywords naturally.\\n\"\n",
    "\t\t\"3. Sections/Subtitles are properly named \"\n",
    "            \"in an engaging manner.\\n\"\n",
    "        \"4. Ensure the post is structured with an \"\n",
    "            \"engaging introduction, insightful body, \"\n",
    "            \"and a summarizing conclusion.\\n\"\n",
    "        \"5. Proofread for grammatical errors and \"\n",
    "            \"alignment with the brand's voice.\\n\"\n",
    "    ),\n",
    "    expected_output=\"A well-written blog post \"\n",
    "        \"in markdown format, ready for publication, \"\n",
    "        \"each section should have 2 or 3 paragraphs.\",\n",
    "    agent=writer,\n",
    ")"
   ]
  },
  {
   "cell_type": "markdown",
   "metadata": {},
   "source": [
    "### Task: Edit"
   ]
  },
  {
   "cell_type": "code",
   "execution_count": 9,
   "metadata": {
    "height": 181
   },
   "outputs": [],
   "source": [
    "edit = Task(\n",
    "    description=(\"Proofread the given blog post for \"\n",
    "                 \"grammatical errors and \"\n",
    "                 \"alignment with the brand's voice.\"),\n",
    "    expected_output=\"A well-written blog post in markdown format, \"\n",
    "                    \"ready for publication, \"\n",
    "                    \"each section should have 2 or 3 paragraphs.\",\n",
    "    agent=editor\n",
    ")"
   ]
  },
  {
   "cell_type": "markdown",
   "metadata": {},
   "source": [
    "## Creating the Crew\n",
    "\n",
    "- Create your crew of Agents\n",
    "- Pass the tasks to be performed by those agents.\n",
    "    - **Note**: *For this simple example*, the tasks will be performed sequentially (i.e they are dependent on each other), so the _order_ of the task in the list _matters_.\n",
    "- `verbose=2` allows you to see all the logs of the execution. "
   ]
  },
  {
   "cell_type": "code",
   "execution_count": 10,
   "metadata": {
    "height": 98
   },
   "outputs": [],
   "source": [
    "crew = Crew(\n",
    "    agents=[planner, writer, editor],\n",
    "    tasks=[plan, write, edit],\n",
    "    verbose=2\n",
    ")"
   ]
  },
  {
   "cell_type": "markdown",
   "metadata": {},
   "source": [
    "## Running the Crew"
   ]
  },
  {
   "cell_type": "code",
   "execution_count": 11,
   "metadata": {
    "height": 30
   },
   "outputs": [
    {
     "name": "stdout",
     "output_type": "stream",
     "text": [
      "\u001b[1m\u001b[95m [DEBUG]: == Working Agent: Content Planner\u001b[00m\n",
      "\u001b[1m\u001b[95m [INFO]: == Starting Task: 1. Prioritize the latest trends, key players, and noteworthy news on Generative AI.\n",
      "2. Identify the target audience, considering their interests and pain points.\n",
      "3. Develop a detailed content outline including an introduction, key points, and a call to action.\n",
      "4. Include SEO keywords and relevant data or sources.\u001b[00m\n",
      "\n",
      "\n",
      "\u001b[1m> Entering new CrewAgentExecutor chain...\u001b[0m\n",
      "\u001b[32;1m\u001b[1;3mI now can give a great answer\n",
      "\n",
      "Final Answer:\n",
      "Content Plan Document\n",
      "\n",
      "Title: Exploring the Latest Trends in Generative AI\n",
      "\n",
      "Outline:\n",
      "I. Introduction\n",
      "- Definition of Generative AI\n",
      "- Importance and applications of Generative AI\n",
      "II. Latest Trends in Generative AI\n",
      "- Deep learning advancements\n",
      "- Use of Generative Adversarial Networks (GANs)\n",
      "- Transfer learning in Generative AI\n",
      "- Ethical considerations in Generative AI\n",
      "III. Key Players in Generative AI\n",
      "- Companies leading in Generative AI research and development\n",
      "- Noteworthy projects and collaborations\n",
      "IV. Noteworthy News on Generative AI\n",
      "- Recent breakthroughs in Generative AI technology\n",
      "- Impact of Generative AI on various industries\n",
      "V. Target Audience Analysis\n",
      "- Tech enthusiasts and professionals interested in AI\n",
      "- Researchers and developers in the field of artificial intelligence\n",
      "- Businesses looking to integrate Generative AI in their operations\n",
      "VI. SEO Keywords\n",
      "- Generative AI trends\n",
      "- Latest advancements in AI technology\n",
      "- Key players in Generative AI\n",
      "VII. Resources\n",
      "- Research papers on Generative AI\n",
      "- Industry reports on the impact of AI technology\n",
      "- Interviews with experts in the field of artificial intelligence\n",
      "VIII. Call to Action\n",
      "- Encourage readers to stay updated on Generative AI trends\n",
      "- Invite readers to explore opportunities in the field of artificial intelligence\n",
      "\n",
      "Please let me know if you need any further information or details. Thank you.\u001b[0m\n",
      "\n",
      "\u001b[1m> Finished chain.\u001b[0m\n",
      "\u001b[1m\u001b[92m [DEBUG]: == [Content Planner] Task output: Content Plan Document\n",
      "\n",
      "Title: Exploring the Latest Trends in Generative AI\n",
      "\n",
      "Outline:\n",
      "I. Introduction\n",
      "- Definition of Generative AI\n",
      "- Importance and applications of Generative AI\n",
      "II. Latest Trends in Generative AI\n",
      "- Deep learning advancements\n",
      "- Use of Generative Adversarial Networks (GANs)\n",
      "- Transfer learning in Generative AI\n",
      "- Ethical considerations in Generative AI\n",
      "III. Key Players in Generative AI\n",
      "- Companies leading in Generative AI research and development\n",
      "- Noteworthy projects and collaborations\n",
      "IV. Noteworthy News on Generative AI\n",
      "- Recent breakthroughs in Generative AI technology\n",
      "- Impact of Generative AI on various industries\n",
      "V. Target Audience Analysis\n",
      "- Tech enthusiasts and professionals interested in AI\n",
      "- Researchers and developers in the field of artificial intelligence\n",
      "- Businesses looking to integrate Generative AI in their operations\n",
      "VI. SEO Keywords\n",
      "- Generative AI trends\n",
      "- Latest advancements in AI technology\n",
      "- Key players in Generative AI\n",
      "VII. Resources\n",
      "- Research papers on Generative AI\n",
      "- Industry reports on the impact of AI technology\n",
      "- Interviews with experts in the field of artificial intelligence\n",
      "VIII. Call to Action\n",
      "- Encourage readers to stay updated on Generative AI trends\n",
      "- Invite readers to explore opportunities in the field of artificial intelligence\n",
      "\n",
      "Please let me know if you need any further information or details. Thank you.\n",
      "\n",
      "\u001b[00m\n",
      "\u001b[1m\u001b[95m [DEBUG]: == Working Agent: Content Writer\u001b[00m\n",
      "\u001b[1m\u001b[95m [INFO]: == Starting Task: 1. Use the content plan to craft a compelling blog post on Generative AI.\n",
      "2. Incorporate SEO keywords naturally.\n",
      "3. Sections/Subtitles are properly named in an engaging manner.\n",
      "4. Ensure the post is structured with an engaging introduction, insightful body, and a summarizing conclusion.\n",
      "5. Proofread for grammatical errors and alignment with the brand's voice.\n",
      "\u001b[00m\n",
      "\n",
      "\n",
      "\u001b[1m> Entering new CrewAgentExecutor chain...\u001b[0m\n",
      "\u001b[32;1m\u001b[1;3mI now can give a great answer\n",
      "\n",
      "Final Answer: \n",
      "\n",
      "# Exploring the Latest Trends in Generative AI\n",
      "\n",
      "In the realm of artificial intelligence, Generative AI has been a game-changer, revolutionizing the way machines learn and create. Generative AI refers to technology that enables machines to generate new content, whether it be images, text, or even music, based on patterns and data it has been trained on. The importance of Generative AI lies in its vast applications across various industries, from healthcare and finance to entertainment and marketing. This technology has the potential to streamline processes, enhance creativity, and drive innovation in unprecedented ways.\n",
      "\n",
      "## Latest Trends in Generative AI\n",
      "\n",
      "One of the key trends in Generative AI is the advancements in deep learning, allowing machines to process complex data and generate high-quality outputs with remarkable accuracy. Deep learning models have paved the way for the development of Generative Adversarial Networks (GANs), a powerful framework that pits two neural networks against each other to generate realistic content. Another trend is the use of transfer learning in Generative AI, where pre-trained models are fine-tuned for specific tasks, reducing the need for extensive training data and resources. However, with these advancements come ethical considerations, such as the potential misuse of AI-generated content and the implications for privacy and security.\n",
      "\n",
      "## Key Players in Generative AI\n",
      "\n",
      "Several companies are at the forefront of Generative AI research and development, including tech giants like Google, Facebook, and OpenAI. These companies have spearheaded notable projects and collaborations that push the boundaries of AI technology. For instance, OpenAI's GPT-3 model has garnered attention for its ability to generate human-like text, while Google's DeepMind has made significant strides in using AI for healthcare applications. These key players continue to drive innovation and shape the future of Generative AI.\n",
      "\n",
      "## Noteworthy News on Generative AI\n",
      "\n",
      "Recent breakthroughs in Generative AI technology have been met with excitement and anticipation across various industries. From generating realistic images and videos to creating personalized content for consumers, the impact of Generative AI is far-reaching. Industries like fashion, gaming, and content creation are already leveraging this technology to enhance user experiences and drive business growth. As Generative AI continues to evolve, its potential to disrupt traditional workflows and unlock new opportunities is unparalleled.\n",
      "\n",
      "## Target Audience Analysis\n",
      "\n",
      "Generative AI trends appeal to a diverse audience, including tech enthusiasts, researchers, developers, and businesses looking to harness the power of AI. Tech enthusiasts and professionals interested in AI are intrigued by the latest advancements in technology and the possibilities they present. Researchers and developers in the field of artificial intelligence are constantly seeking new tools and techniques to enhance their work. Businesses, on the other hand, are keen on integrating Generative AI into their operations to gain a competitive edge and meet the demands of a rapidly evolving market.\n",
      "\n",
      "In conclusion, Generative AI is a dynamic field that continues to push the boundaries of what machines can achieve. With deep learning advancements, the rise of GANs, and ethical considerations in mind, the landscape of Generative AI is both exciting and challenging. As key players drive innovation and news of breakthroughs spread, it is clear that Generative AI is here to stay. For those interested in staying updated on the latest trends and exploring opportunities in the field of artificial intelligence, now is the time to delve into the world of Generative AI.\u001b[0m\n",
      "\n",
      "\u001b[1m> Finished chain.\u001b[0m\n",
      "\u001b[1m\u001b[92m [DEBUG]: == [Content Writer] Task output: # Exploring the Latest Trends in Generative AI\n",
      "\n",
      "In the realm of artificial intelligence, Generative AI has been a game-changer, revolutionizing the way machines learn and create. Generative AI refers to technology that enables machines to generate new content, whether it be images, text, or even music, based on patterns and data it has been trained on. The importance of Generative AI lies in its vast applications across various industries, from healthcare and finance to entertainment and marketing. This technology has the potential to streamline processes, enhance creativity, and drive innovation in unprecedented ways.\n",
      "\n",
      "## Latest Trends in Generative AI\n",
      "\n",
      "One of the key trends in Generative AI is the advancements in deep learning, allowing machines to process complex data and generate high-quality outputs with remarkable accuracy. Deep learning models have paved the way for the development of Generative Adversarial Networks (GANs), a powerful framework that pits two neural networks against each other to generate realistic content. Another trend is the use of transfer learning in Generative AI, where pre-trained models are fine-tuned for specific tasks, reducing the need for extensive training data and resources. However, with these advancements come ethical considerations, such as the potential misuse of AI-generated content and the implications for privacy and security.\n",
      "\n",
      "## Key Players in Generative AI\n",
      "\n",
      "Several companies are at the forefront of Generative AI research and development, including tech giants like Google, Facebook, and OpenAI. These companies have spearheaded notable projects and collaborations that push the boundaries of AI technology. For instance, OpenAI's GPT-3 model has garnered attention for its ability to generate human-like text, while Google's DeepMind has made significant strides in using AI for healthcare applications. These key players continue to drive innovation and shape the future of Generative AI.\n",
      "\n",
      "## Noteworthy News on Generative AI\n",
      "\n",
      "Recent breakthroughs in Generative AI technology have been met with excitement and anticipation across various industries. From generating realistic images and videos to creating personalized content for consumers, the impact of Generative AI is far-reaching. Industries like fashion, gaming, and content creation are already leveraging this technology to enhance user experiences and drive business growth. As Generative AI continues to evolve, its potential to disrupt traditional workflows and unlock new opportunities is unparalleled.\n",
      "\n",
      "## Target Audience Analysis\n",
      "\n",
      "Generative AI trends appeal to a diverse audience, including tech enthusiasts, researchers, developers, and businesses looking to harness the power of AI. Tech enthusiasts and professionals interested in AI are intrigued by the latest advancements in technology and the possibilities they present. Researchers and developers in the field of artificial intelligence are constantly seeking new tools and techniques to enhance their work. Businesses, on the other hand, are keen on integrating Generative AI into their operations to gain a competitive edge and meet the demands of a rapidly evolving market.\n",
      "\n",
      "In conclusion, Generative AI is a dynamic field that continues to push the boundaries of what machines can achieve. With deep learning advancements, the rise of GANs, and ethical considerations in mind, the landscape of Generative AI is both exciting and challenging. As key players drive innovation and news of breakthroughs spread, it is clear that Generative AI is here to stay. For those interested in staying updated on the latest trends and exploring opportunities in the field of artificial intelligence, now is the time to delve into the world of Generative AI.\n",
      "\n",
      "\u001b[00m\n",
      "\u001b[1m\u001b[95m [DEBUG]: == Working Agent: Editor\u001b[00m\n",
      "\u001b[1m\u001b[95m [INFO]: == Starting Task: Proofread the given blog post for grammatical errors and alignment with the brand's voice.\u001b[00m\n",
      "\n",
      "\n",
      "\u001b[1m> Entering new CrewAgentExecutor chain...\u001b[0m\n"
     ]
    },
    {
     "name": "stdout",
     "output_type": "stream",
     "text": [
      "\u001b[32;1m\u001b[1;3mI now can give a great answer\n",
      "\n",
      "Final Answer:\n",
      "# Exploring the Latest Trends in Generative AI\n",
      "\n",
      "In the realm of artificial intelligence, Generative AI has been a game-changer, revolutionizing the way machines learn and create. Generative AI refers to technology that enables machines to generate new content, whether it be images, text, or even music, based on patterns and data it has been trained on. The importance of Generative AI lies in its vast applications across various industries, from healthcare and finance to entertainment and marketing. This technology has the potential to streamline processes, enhance creativity, and drive innovation in unprecedented ways.\n",
      "\n",
      "## Latest Trends in Generative AI\n",
      "\n",
      "One of the key trends in Generative AI is the advancements in deep learning, allowing machines to process complex data and generate high-quality outputs with remarkable accuracy. Deep learning models have paved the way for the development of Generative Adversarial Networks (GANs), a powerful framework that pits two neural networks against each other to generate realistic content. Another trend is the use of transfer learning in Generative AI, where pre-trained models are fine-tuned for specific tasks, reducing the need for extensive training data and resources. However, with these advancements come ethical considerations, such as the potential misuse of AI-generated content and the implications for privacy and security.\n",
      "\n",
      "## Key Players in Generative AI\n",
      "\n",
      "Several companies are at the forefront of Generative AI research and development, including tech giants like Google, Facebook, and OpenAI. These companies have spearheaded notable projects and collaborations that push the boundaries of AI technology. For instance, OpenAI's GPT-3 model has garnered attention for its ability to generate human-like text, while Google's DeepMind has made significant strides in using AI for healthcare applications. These key players continue to drive innovation and shape the future of Generative AI.\n",
      "\n",
      "## Noteworthy News on Generative AI\n",
      "\n",
      "Recent breakthroughs in Generative AI technology have been met with excitement and anticipation across various industries. From generating realistic images and videos to creating personalized content for consumers, the impact of Generative AI is far-reaching. Industries like fashion, gaming, and content creation are already leveraging this technology to enhance user experiences and drive business growth. As Generative AI continues to evolve, its potential to disrupt traditional workflows and unlock new opportunities is unparalleled.\n",
      "\n",
      "## Target Audience Analysis\n",
      "\n",
      "Generative AI trends appeal to a diverse audience, including tech enthusiasts, researchers, developers, and businesses looking to harness the power of AI. Tech enthusiasts and professionals interested in AI are intrigued by the latest advancements in technology and the possibilities they present. Researchers and developers in the field of artificial intelligence are constantly seeking new tools and techniques to enhance their work. Businesses, on the other hand, are keen on integrating Generative AI into their operations to gain a competitive edge and meet the demands of a rapidly evolving market.\n",
      "\n",
      "In conclusion, Generative AI is a dynamic field that continues to push the boundaries of what machines can achieve. With deep learning advancements, the rise of GANs, and ethical considerations in mind, the landscape of Generative AI is both exciting and challenging. As key players drive innovation and news of breakthroughs spread, it is clear that Generative AI is here to stay. For those interested in staying updated on the latest trends and exploring opportunities in the field of artificial intelligence, now is the time to delve into the world of Generative AI.\u001b[0m\n",
      "\n",
      "\u001b[1m> Finished chain.\u001b[0m\n",
      "\u001b[1m\u001b[92m [DEBUG]: == [Editor] Task output: # Exploring the Latest Trends in Generative AI\n",
      "\n",
      "In the realm of artificial intelligence, Generative AI has been a game-changer, revolutionizing the way machines learn and create. Generative AI refers to technology that enables machines to generate new content, whether it be images, text, or even music, based on patterns and data it has been trained on. The importance of Generative AI lies in its vast applications across various industries, from healthcare and finance to entertainment and marketing. This technology has the potential to streamline processes, enhance creativity, and drive innovation in unprecedented ways.\n",
      "\n",
      "## Latest Trends in Generative AI\n",
      "\n",
      "One of the key trends in Generative AI is the advancements in deep learning, allowing machines to process complex data and generate high-quality outputs with remarkable accuracy. Deep learning models have paved the way for the development of Generative Adversarial Networks (GANs), a powerful framework that pits two neural networks against each other to generate realistic content. Another trend is the use of transfer learning in Generative AI, where pre-trained models are fine-tuned for specific tasks, reducing the need for extensive training data and resources. However, with these advancements come ethical considerations, such as the potential misuse of AI-generated content and the implications for privacy and security.\n",
      "\n",
      "## Key Players in Generative AI\n",
      "\n",
      "Several companies are at the forefront of Generative AI research and development, including tech giants like Google, Facebook, and OpenAI. These companies have spearheaded notable projects and collaborations that push the boundaries of AI technology. For instance, OpenAI's GPT-3 model has garnered attention for its ability to generate human-like text, while Google's DeepMind has made significant strides in using AI for healthcare applications. These key players continue to drive innovation and shape the future of Generative AI.\n",
      "\n",
      "## Noteworthy News on Generative AI\n",
      "\n",
      "Recent breakthroughs in Generative AI technology have been met with excitement and anticipation across various industries. From generating realistic images and videos to creating personalized content for consumers, the impact of Generative AI is far-reaching. Industries like fashion, gaming, and content creation are already leveraging this technology to enhance user experiences and drive business growth. As Generative AI continues to evolve, its potential to disrupt traditional workflows and unlock new opportunities is unparalleled.\n",
      "\n",
      "## Target Audience Analysis\n",
      "\n",
      "Generative AI trends appeal to a diverse audience, including tech enthusiasts, researchers, developers, and businesses looking to harness the power of AI. Tech enthusiasts and professionals interested in AI are intrigued by the latest advancements in technology and the possibilities they present. Researchers and developers in the field of artificial intelligence are constantly seeking new tools and techniques to enhance their work. Businesses, on the other hand, are keen on integrating Generative AI into their operations to gain a competitive edge and meet the demands of a rapidly evolving market.\n",
      "\n",
      "In conclusion, Generative AI is a dynamic field that continues to push the boundaries of what machines can achieve. With deep learning advancements, the rise of GANs, and ethical considerations in mind, the landscape of Generative AI is both exciting and challenging. As key players drive innovation and news of breakthroughs spread, it is clear that Generative AI is here to stay. For those interested in staying updated on the latest trends and exploring opportunities in the field of artificial intelligence, now is the time to delve into the world of Generative AI.\n",
      "\n",
      "\u001b[00m\n"
     ]
    }
   ],
   "source": [
    "result = crew.kickoff(inputs={\"topic\": \"Generative AI\"})"
   ]
  },
  {
   "cell_type": "markdown",
   "metadata": {},
   "source": [
    "- Display the results of your execution as markdown in the notebook."
   ]
  },
  {
   "cell_type": "code",
   "execution_count": 12,
   "metadata": {
    "height": 47
   },
   "outputs": [
    {
     "data": {
      "text/markdown": [
       "# Exploring the Latest Trends in Generative AI\n",
       "\n",
       "In the realm of artificial intelligence, Generative AI has been a game-changer, revolutionizing the way machines learn and create. Generative AI refers to technology that enables machines to generate new content, whether it be images, text, or even music, based on patterns and data it has been trained on. The importance of Generative AI lies in its vast applications across various industries, from healthcare and finance to entertainment and marketing. This technology has the potential to streamline processes, enhance creativity, and drive innovation in unprecedented ways.\n",
       "\n",
       "## Latest Trends in Generative AI\n",
       "\n",
       "One of the key trends in Generative AI is the advancements in deep learning, allowing machines to process complex data and generate high-quality outputs with remarkable accuracy. Deep learning models have paved the way for the development of Generative Adversarial Networks (GANs), a powerful framework that pits two neural networks against each other to generate realistic content. Another trend is the use of transfer learning in Generative AI, where pre-trained models are fine-tuned for specific tasks, reducing the need for extensive training data and resources. However, with these advancements come ethical considerations, such as the potential misuse of AI-generated content and the implications for privacy and security.\n",
       "\n",
       "## Key Players in Generative AI\n",
       "\n",
       "Several companies are at the forefront of Generative AI research and development, including tech giants like Google, Facebook, and OpenAI. These companies have spearheaded notable projects and collaborations that push the boundaries of AI technology. For instance, OpenAI's GPT-3 model has garnered attention for its ability to generate human-like text, while Google's DeepMind has made significant strides in using AI for healthcare applications. These key players continue to drive innovation and shape the future of Generative AI.\n",
       "\n",
       "## Noteworthy News on Generative AI\n",
       "\n",
       "Recent breakthroughs in Generative AI technology have been met with excitement and anticipation across various industries. From generating realistic images and videos to creating personalized content for consumers, the impact of Generative AI is far-reaching. Industries like fashion, gaming, and content creation are already leveraging this technology to enhance user experiences and drive business growth. As Generative AI continues to evolve, its potential to disrupt traditional workflows and unlock new opportunities is unparalleled.\n",
       "\n",
       "## Target Audience Analysis\n",
       "\n",
       "Generative AI trends appeal to a diverse audience, including tech enthusiasts, researchers, developers, and businesses looking to harness the power of AI. Tech enthusiasts and professionals interested in AI are intrigued by the latest advancements in technology and the possibilities they present. Researchers and developers in the field of artificial intelligence are constantly seeking new tools and techniques to enhance their work. Businesses, on the other hand, are keen on integrating Generative AI into their operations to gain a competitive edge and meet the demands of a rapidly evolving market.\n",
       "\n",
       "In conclusion, Generative AI is a dynamic field that continues to push the boundaries of what machines can achieve. With deep learning advancements, the rise of GANs, and ethical considerations in mind, the landscape of Generative AI is both exciting and challenging. As key players drive innovation and news of breakthroughs spread, it is clear that Generative AI is here to stay. For those interested in staying updated on the latest trends and exploring opportunities in the field of artificial intelligence, now is the time to delve into the world of Generative AI."
      ],
      "text/plain": [
       "<IPython.core.display.Markdown object>"
      ]
     },
     "execution_count": 12,
     "metadata": {},
     "output_type": "execute_result"
    }
   ],
   "source": [
    "from IPython.display import Markdown\n",
    "Markdown(result)"
   ]
  },
  {
   "cell_type": "markdown",
   "metadata": {},
   "source": [
    "## Try it Yourself\n",
    "\n",
    "- Pass in a topic of your choice and see what the agents come up with!"
   ]
  },
  {
   "cell_type": "code",
   "execution_count": 13,
   "metadata": {
    "height": 47
   },
   "outputs": [
    {
     "name": "stdout",
     "output_type": "stream",
     "text": [
      "\u001b[1m\u001b[95m [DEBUG]: == Working Agent: Content Planner\u001b[00m\n",
      "\u001b[1m\u001b[95m [INFO]: == Starting Task: 1. Prioritize the latest trends, key players, and noteworthy news on Tennis.\n",
      "2. Identify the target audience, considering their interests and pain points.\n",
      "3. Develop a detailed content outline including an introduction, key points, and a call to action.\n",
      "4. Include SEO keywords and relevant data or sources.\u001b[00m\n",
      "\n",
      "\n",
      "\u001b[1m> Entering new CrewAgentExecutor chain...\u001b[0m\n",
      "\u001b[32;1m\u001b[1;3mI now can give a great answer\n",
      "\n",
      "Final Answer: \n",
      "\n",
      "Content Plan for Blog Article on Tennis\n",
      "\n",
      "Introduction:\n",
      "- Brief overview of the history of tennis and its popularity worldwide.\n",
      "- Mention of recent trends and advancements in the sport.\n",
      "\n",
      "Key Points:\n",
      "1. Latest Trends in Tennis:\n",
      "- Shift towards sustainability in tennis events and facilities.\n",
      "- Growth of technology in tennis equipment and training methods.\n",
      "- Increased focus on mental health and well-being of players.\n",
      "- Rise of virtual tennis tournaments and online coaching platforms.\n",
      "\n",
      "2. Key Players in Tennis:\n",
      "- Analysis of top-ranked male and female players.\n",
      "- Highlight of upcoming young talents in the tennis world.\n",
      "- Comparison of different playing styles and strengths of key players.\n",
      "\n",
      "3. Noteworthy News in Tennis:\n",
      "- Recap of recent major tournaments and their outcomes.\n",
      "- Updates on rule changes and advancements in tennis technology.\n",
      "- Interviews with tennis coaches, players, and industry experts on current issues in the sport.\n",
      "\n",
      "Audience Analysis:\n",
      "- Target Audience: Tennis enthusiasts, players, coaches, and fans.\n",
      "- Interests: Latest updates on tournaments, player profiles, training tips, and equipment reviews.\n",
      "- Pain Points: Difficulty in staying updated on all tennis news, lack of access to expert advice and analysis.\n",
      "\n",
      "SEO Keywords:\n",
      "- Tennis news, tennis trends, tennis players, tennis tournaments, tennis technology, tennis equipment, tennis coaching, tennis updates.\n",
      "\n",
      "Resources:\n",
      "- Official websites of tennis associations (ATP, WTA, ITF).\n",
      "- Tennis magazines and publications (Tennis Magazine, Tennis.com).\n",
      "- Interviews with tennis players and coaches.\n",
      "- Research studies on tennis trends and advancements.\n",
      "\n",
      "Call to Action:\n",
      "- Encourage readers to subscribe to the blog for regular updates on tennis news and analysis.\n",
      "- Prompt them to engage in discussions by commenting on the article or sharing their own experiences in tennis.\n",
      "\n",
      "By following this comprehensive content plan, the blog article on tennis will provide valuable information and insights to the target audience, helping them stay informed and engaged with the latest trends and news in the sport.\u001b[0m\n",
      "\n",
      "\u001b[1m> Finished chain.\u001b[0m\n",
      "\u001b[1m\u001b[92m [DEBUG]: == [Content Planner] Task output: Content Plan for Blog Article on Tennis\n",
      "\n",
      "Introduction:\n",
      "- Brief overview of the history of tennis and its popularity worldwide.\n",
      "- Mention of recent trends and advancements in the sport.\n",
      "\n",
      "Key Points:\n",
      "1. Latest Trends in Tennis:\n",
      "- Shift towards sustainability in tennis events and facilities.\n",
      "- Growth of technology in tennis equipment and training methods.\n",
      "- Increased focus on mental health and well-being of players.\n",
      "- Rise of virtual tennis tournaments and online coaching platforms.\n",
      "\n",
      "2. Key Players in Tennis:\n",
      "- Analysis of top-ranked male and female players.\n",
      "- Highlight of upcoming young talents in the tennis world.\n",
      "- Comparison of different playing styles and strengths of key players.\n",
      "\n",
      "3. Noteworthy News in Tennis:\n",
      "- Recap of recent major tournaments and their outcomes.\n",
      "- Updates on rule changes and advancements in tennis technology.\n",
      "- Interviews with tennis coaches, players, and industry experts on current issues in the sport.\n",
      "\n",
      "Audience Analysis:\n",
      "- Target Audience: Tennis enthusiasts, players, coaches, and fans.\n",
      "- Interests: Latest updates on tournaments, player profiles, training tips, and equipment reviews.\n",
      "- Pain Points: Difficulty in staying updated on all tennis news, lack of access to expert advice and analysis.\n",
      "\n",
      "SEO Keywords:\n",
      "- Tennis news, tennis trends, tennis players, tennis tournaments, tennis technology, tennis equipment, tennis coaching, tennis updates.\n",
      "\n",
      "Resources:\n",
      "- Official websites of tennis associations (ATP, WTA, ITF).\n",
      "- Tennis magazines and publications (Tennis Magazine, Tennis.com).\n",
      "- Interviews with tennis players and coaches.\n",
      "- Research studies on tennis trends and advancements.\n",
      "\n",
      "Call to Action:\n",
      "- Encourage readers to subscribe to the blog for regular updates on tennis news and analysis.\n",
      "- Prompt them to engage in discussions by commenting on the article or sharing their own experiences in tennis.\n",
      "\n",
      "By following this comprehensive content plan, the blog article on tennis will provide valuable information and insights to the target audience, helping them stay informed and engaged with the latest trends and news in the sport.\n",
      "\n",
      "\u001b[00m\n",
      "\u001b[1m\u001b[95m [DEBUG]: == Working Agent: Content Writer\u001b[00m\n",
      "\u001b[1m\u001b[95m [INFO]: == Starting Task: 1. Use the content plan to craft a compelling blog post on Tennis.\n",
      "2. Incorporate SEO keywords naturally.\n",
      "3. Sections/Subtitles are properly named in an engaging manner.\n",
      "4. Ensure the post is structured with an engaging introduction, insightful body, and a summarizing conclusion.\n",
      "5. Proofread for grammatical errors and alignment with the brand's voice.\n",
      "\u001b[00m\n",
      "\n",
      "\n",
      "\u001b[1m> Entering new CrewAgentExecutor chain...\u001b[0m\n",
      "\u001b[32;1m\u001b[1;3mI am confident that I can deliver a well-structured and engaging blog post on the topic of Tennis by following the detailed content plan provided. By incorporating the latest trends, key players, noteworthy news, and addressing the interests and pain points of the target audience, I believe I can create a compelling piece that will resonate with tennis enthusiasts, players, coaches, and fans.\n",
      "\n",
      "Final Answer:\n",
      "\n",
      "# The Ever-Evolving World of Tennis\n",
      "\n",
      "**Introduction**\n",
      "\n",
      "Tennis, a sport with a rich history and global popularity, continues to captivate audiences with its thrilling matches and talented athletes. From its origins in the 19th century to the modern-day era of professional tournaments and technological advancements, tennis has undergone significant changes and adaptations. Recent trends in the sport have highlighted a shift towards sustainability in events and facilities, the integration of technology in equipment and training methods, a heightened focus on mental health and player well-being, and the emergence of virtual tournaments and online coaching platforms.\n",
      "\n",
      "**Latest Trends in Tennis**\n",
      "\n",
      "In the ever-evolving landscape of tennis, sustainability has become a key focus for events and facilities, with initiatives such as eco-friendly practices and energy-efficient designs gaining momentum. Additionally, the integration of technology in equipment and training methods has revolutionized the way players prepare and compete, with innovations like smart racquets and data-driven coaching tools enhancing performance. The emphasis on mental health and well-being in tennis has also gained prominence, with players prioritizing self-care and seeking support from mental health professionals to maintain peak performance. The rise of virtual tournaments and online coaching platforms has provided new opportunities for players to compete and improve their skills, even in times of physical distancing.\n",
      "\n",
      "**Key Players in Tennis**\n",
      "\n",
      "As the top-ranked male and female players continue to showcase their skills on the global stage, upcoming young talents are also making their mark in the tennis world. The diversity of playing styles and strengths among key players adds excitement to the sport, with fans eagerly following matchups between power hitters, finesse players, and all-around performers. Analyzing the strategies and techniques of top players offers valuable insights for aspiring athletes and tennis enthusiasts looking to enhance their own game.\n",
      "\n",
      "**Noteworthy News in Tennis**\n",
      "\n",
      "Recapping recent major tournaments and their outcomes provides a comprehensive overview of the competitive landscape in tennis, highlighting standout performances and surprising upsets. Updates on rule changes and advancements in tennis technology offer a glimpse into the future of the sport, with innovations like electronic line-calling and player tracking shaping the way matches are played and officiated. Interviews with tennis coaches, players, and industry experts provide firsthand perspectives on current issues and developments in the sport, offering valuable insights for fans and professionals alike.\n",
      "\n",
      "In conclusion, the world of tennis continues to evolve and adapt to meet the needs and expectations of players, fans, and stakeholders. By staying informed and engaged with the latest trends, key players, and noteworthy news in the sport, tennis enthusiasts can deepen their appreciation for the game and connect with a global community of fellow fans. As the sport continues to grow and innovate, the future of tennis looks bright, with exciting opportunities for players of all ages and abilities to participate and excel. Subscribe to our blog for regular updates on tennis news and analysis, and join the conversation by sharing your own experiences and insights in the comments below. Let's continue to celebrate the beauty and excitement of tennis together!\u001b[0m\n",
      "\n",
      "\u001b[1m> Finished chain.\u001b[0m\n",
      "\u001b[1m\u001b[92m [DEBUG]: == [Content Writer] Task output: # The Ever-Evolving World of Tennis\n",
      "\n",
      "**Introduction**\n",
      "\n",
      "Tennis, a sport with a rich history and global popularity, continues to captivate audiences with its thrilling matches and talented athletes. From its origins in the 19th century to the modern-day era of professional tournaments and technological advancements, tennis has undergone significant changes and adaptations. Recent trends in the sport have highlighted a shift towards sustainability in events and facilities, the integration of technology in equipment and training methods, a heightened focus on mental health and player well-being, and the emergence of virtual tournaments and online coaching platforms.\n",
      "\n",
      "**Latest Trends in Tennis**\n",
      "\n",
      "In the ever-evolving landscape of tennis, sustainability has become a key focus for events and facilities, with initiatives such as eco-friendly practices and energy-efficient designs gaining momentum. Additionally, the integration of technology in equipment and training methods has revolutionized the way players prepare and compete, with innovations like smart racquets and data-driven coaching tools enhancing performance. The emphasis on mental health and well-being in tennis has also gained prominence, with players prioritizing self-care and seeking support from mental health professionals to maintain peak performance. The rise of virtual tournaments and online coaching platforms has provided new opportunities for players to compete and improve their skills, even in times of physical distancing.\n",
      "\n",
      "**Key Players in Tennis**\n",
      "\n",
      "As the top-ranked male and female players continue to showcase their skills on the global stage, upcoming young talents are also making their mark in the tennis world. The diversity of playing styles and strengths among key players adds excitement to the sport, with fans eagerly following matchups between power hitters, finesse players, and all-around performers. Analyzing the strategies and techniques of top players offers valuable insights for aspiring athletes and tennis enthusiasts looking to enhance their own game.\n",
      "\n",
      "**Noteworthy News in Tennis**\n",
      "\n",
      "Recapping recent major tournaments and their outcomes provides a comprehensive overview of the competitive landscape in tennis, highlighting standout performances and surprising upsets. Updates on rule changes and advancements in tennis technology offer a glimpse into the future of the sport, with innovations like electronic line-calling and player tracking shaping the way matches are played and officiated. Interviews with tennis coaches, players, and industry experts provide firsthand perspectives on current issues and developments in the sport, offering valuable insights for fans and professionals alike.\n",
      "\n",
      "In conclusion, the world of tennis continues to evolve and adapt to meet the needs and expectations of players, fans, and stakeholders. By staying informed and engaged with the latest trends, key players, and noteworthy news in the sport, tennis enthusiasts can deepen their appreciation for the game and connect with a global community of fellow fans. As the sport continues to grow and innovate, the future of tennis looks bright, with exciting opportunities for players of all ages and abilities to participate and excel. Subscribe to our blog for regular updates on tennis news and analysis, and join the conversation by sharing your own experiences and insights in the comments below. Let's continue to celebrate the beauty and excitement of tennis together!\n",
      "\n",
      "\u001b[00m\n",
      "\u001b[1m\u001b[95m [DEBUG]: == Working Agent: Editor\u001b[00m\n",
      "\u001b[1m\u001b[95m [INFO]: == Starting Task: Proofread the given blog post for grammatical errors and alignment with the brand's voice.\u001b[00m\n",
      "\n",
      "\n",
      "\u001b[1m> Entering new CrewAgentExecutor chain...\u001b[0m\n"
     ]
    },
    {
     "name": "stdout",
     "output_type": "stream",
     "text": [
      "\u001b[32;1m\u001b[1;3mI now can give a great answer\n",
      "\n",
      "Final Answer:\n",
      "\n",
      "# The Ever-Evolving World of Tennis\n",
      "\n",
      "**Introduction**\n",
      "\n",
      "Tennis, a sport with a rich history and global popularity, continues to captivate audiences with its thrilling matches and talented athletes. From its origins in the 19th century to the modern-day era of professional tournaments and technological advancements, tennis has undergone significant changes and adaptations. Recent trends in the sport have highlighted a shift towards sustainability in events and facilities, the integration of technology in equipment and training methods, a heightened focus on mental health and player well-being, and the emergence of virtual tournaments and online coaching platforms.\n",
      "\n",
      "**Latest Trends in Tennis**\n",
      "\n",
      "In the ever-evolving landscape of tennis, sustainability has become a key focus for events and facilities, with initiatives such as eco-friendly practices and energy-efficient designs gaining momentum. Additionally, the integration of technology in equipment and training methods has revolutionized the way players prepare and compete, with innovations like smart racquets and data-driven coaching tools enhancing performance. The emphasis on mental health and well-being in tennis has also gained prominence, with players prioritizing self-care and seeking support from mental health professionals to maintain peak performance. The rise of virtual tournaments and online coaching platforms has provided new opportunities for players to compete and improve their skills, even in times of physical distancing.\n",
      "\n",
      "**Key Players in Tennis**\n",
      "\n",
      "As the top-ranked male and female players continue to showcase their skills on the global stage, upcoming young talents are also making their mark in the tennis world. The diversity of playing styles and strengths among key players adds excitement to the sport, with fans eagerly following matchups between power hitters, finesse players, and all-around performers. Analyzing the strategies and techniques of top players offers valuable insights for aspiring athletes and tennis enthusiasts looking to enhance their own game.\n",
      "\n",
      "**Noteworthy News in Tennis**\n",
      "\n",
      "Recapping recent major tournaments and their outcomes provides a comprehensive overview of the competitive landscape in tennis, highlighting standout performances and surprising upsets. Updates on rule changes and advancements in tennis technology offer a glimpse into the future of the sport, with innovations like electronic line-calling and player tracking shaping the way matches are played and officiated. Interviews with tennis coaches, players, and industry experts provide firsthand perspectives on current issues and developments in the sport, offering valuable insights for fans and professionals alike.\n",
      "\n",
      "In conclusion, the world of tennis continues to evolve and adapt to meet the needs and expectations of players, fans, and stakeholders. By staying informed and engaged with the latest trends, key players, and noteworthy news in the sport, tennis enthusiasts can deepen their appreciation for the game and connect with a global community of fellow fans. As the sport continues to grow and innovate, the future of tennis looks bright, with exciting opportunities for players of all ages and abilities to participate and excel. Subscribe to our blog for regular updates on tennis news and analysis, and join the conversation by sharing your own experiences and insights in the comments below. Let's continue to celebrate the beauty and excitement of tennis together!\u001b[0m\n",
      "\n",
      "\u001b[1m> Finished chain.\u001b[0m\n",
      "\u001b[1m\u001b[92m [DEBUG]: == [Editor] Task output: # The Ever-Evolving World of Tennis\n",
      "\n",
      "**Introduction**\n",
      "\n",
      "Tennis, a sport with a rich history and global popularity, continues to captivate audiences with its thrilling matches and talented athletes. From its origins in the 19th century to the modern-day era of professional tournaments and technological advancements, tennis has undergone significant changes and adaptations. Recent trends in the sport have highlighted a shift towards sustainability in events and facilities, the integration of technology in equipment and training methods, a heightened focus on mental health and player well-being, and the emergence of virtual tournaments and online coaching platforms.\n",
      "\n",
      "**Latest Trends in Tennis**\n",
      "\n",
      "In the ever-evolving landscape of tennis, sustainability has become a key focus for events and facilities, with initiatives such as eco-friendly practices and energy-efficient designs gaining momentum. Additionally, the integration of technology in equipment and training methods has revolutionized the way players prepare and compete, with innovations like smart racquets and data-driven coaching tools enhancing performance. The emphasis on mental health and well-being in tennis has also gained prominence, with players prioritizing self-care and seeking support from mental health professionals to maintain peak performance. The rise of virtual tournaments and online coaching platforms has provided new opportunities for players to compete and improve their skills, even in times of physical distancing.\n",
      "\n",
      "**Key Players in Tennis**\n",
      "\n",
      "As the top-ranked male and female players continue to showcase their skills on the global stage, upcoming young talents are also making their mark in the tennis world. The diversity of playing styles and strengths among key players adds excitement to the sport, with fans eagerly following matchups between power hitters, finesse players, and all-around performers. Analyzing the strategies and techniques of top players offers valuable insights for aspiring athletes and tennis enthusiasts looking to enhance their own game.\n",
      "\n",
      "**Noteworthy News in Tennis**\n",
      "\n",
      "Recapping recent major tournaments and their outcomes provides a comprehensive overview of the competitive landscape in tennis, highlighting standout performances and surprising upsets. Updates on rule changes and advancements in tennis technology offer a glimpse into the future of the sport, with innovations like electronic line-calling and player tracking shaping the way matches are played and officiated. Interviews with tennis coaches, players, and industry experts provide firsthand perspectives on current issues and developments in the sport, offering valuable insights for fans and professionals alike.\n",
      "\n",
      "In conclusion, the world of tennis continues to evolve and adapt to meet the needs and expectations of players, fans, and stakeholders. By staying informed and engaged with the latest trends, key players, and noteworthy news in the sport, tennis enthusiasts can deepen their appreciation for the game and connect with a global community of fellow fans. As the sport continues to grow and innovate, the future of tennis looks bright, with exciting opportunities for players of all ages and abilities to participate and excel. Subscribe to our blog for regular updates on tennis news and analysis, and join the conversation by sharing your own experiences and insights in the comments below. Let's continue to celebrate the beauty and excitement of tennis together!\n",
      "\n",
      "\u001b[00m\n"
     ]
    }
   ],
   "source": [
    "topic = \"Tennis\"\n",
    "result = crew.kickoff(inputs={\"topic\": topic})"
   ]
  },
  {
   "cell_type": "code",
   "execution_count": 14,
   "metadata": {
    "height": 30
   },
   "outputs": [
    {
     "data": {
      "text/markdown": [
       "# The Ever-Evolving World of Tennis\n",
       "\n",
       "**Introduction**\n",
       "\n",
       "Tennis, a sport with a rich history and global popularity, continues to captivate audiences with its thrilling matches and talented athletes. From its origins in the 19th century to the modern-day era of professional tournaments and technological advancements, tennis has undergone significant changes and adaptations. Recent trends in the sport have highlighted a shift towards sustainability in events and facilities, the integration of technology in equipment and training methods, a heightened focus on mental health and player well-being, and the emergence of virtual tournaments and online coaching platforms.\n",
       "\n",
       "**Latest Trends in Tennis**\n",
       "\n",
       "In the ever-evolving landscape of tennis, sustainability has become a key focus for events and facilities, with initiatives such as eco-friendly practices and energy-efficient designs gaining momentum. Additionally, the integration of technology in equipment and training methods has revolutionized the way players prepare and compete, with innovations like smart racquets and data-driven coaching tools enhancing performance. The emphasis on mental health and well-being in tennis has also gained prominence, with players prioritizing self-care and seeking support from mental health professionals to maintain peak performance. The rise of virtual tournaments and online coaching platforms has provided new opportunities for players to compete and improve their skills, even in times of physical distancing.\n",
       "\n",
       "**Key Players in Tennis**\n",
       "\n",
       "As the top-ranked male and female players continue to showcase their skills on the global stage, upcoming young talents are also making their mark in the tennis world. The diversity of playing styles and strengths among key players adds excitement to the sport, with fans eagerly following matchups between power hitters, finesse players, and all-around performers. Analyzing the strategies and techniques of top players offers valuable insights for aspiring athletes and tennis enthusiasts looking to enhance their own game.\n",
       "\n",
       "**Noteworthy News in Tennis**\n",
       "\n",
       "Recapping recent major tournaments and their outcomes provides a comprehensive overview of the competitive landscape in tennis, highlighting standout performances and surprising upsets. Updates on rule changes and advancements in tennis technology offer a glimpse into the future of the sport, with innovations like electronic line-calling and player tracking shaping the way matches are played and officiated. Interviews with tennis coaches, players, and industry experts provide firsthand perspectives on current issues and developments in the sport, offering valuable insights for fans and professionals alike.\n",
       "\n",
       "In conclusion, the world of tennis continues to evolve and adapt to meet the needs and expectations of players, fans, and stakeholders. By staying informed and engaged with the latest trends, key players, and noteworthy news in the sport, tennis enthusiasts can deepen their appreciation for the game and connect with a global community of fellow fans. As the sport continues to grow and innovate, the future of tennis looks bright, with exciting opportunities for players of all ages and abilities to participate and excel. Subscribe to our blog for regular updates on tennis news and analysis, and join the conversation by sharing your own experiences and insights in the comments below. Let's continue to celebrate the beauty and excitement of tennis together!"
      ],
      "text/plain": [
       "<IPython.core.display.Markdown object>"
      ]
     },
     "execution_count": 14,
     "metadata": {},
     "output_type": "execute_result"
    }
   ],
   "source": [
    "Markdown(result)"
   ]
  },
  {
   "cell_type": "markdown",
   "metadata": {},
   "source": [
    "<a name='1'></a>\n",
    " ## Other Popular Models as LLM for the Agents"
   ]
  },
  {
   "cell_type": "markdown",
   "metadata": {},
   "source": [
    "#### Hugging Face (HuggingFaceHub endpoint)\n",
    "\n",
    "```Python\n",
    "from langchain_community.llms import HuggingFaceHub\n",
    "\n",
    "llm = HuggingFaceHub(\n",
    "    repo_id=\"HuggingFaceH4/zephyr-7b-beta\",\n",
    "    huggingfacehub_api_token=\"<HF_TOKEN_HERE>\",\n",
    "    task=\"text-generation\",\n",
    ")\n"
   ]
  },
  {
   "cell_type": "markdown",
   "metadata": {},
   "source": [
    "#### Mistral API\n",
    "\n",
    "```Python\n",
    "OPENAI_API_KEY=your-mistral-api-key\n",
    "OPENAI_API_BASE=https://api.mistral.ai/v1\n",
    "OPENAI_MODEL_NAME=\"mistral-small\"\n",
    "```"
   ]
  },
  {
   "cell_type": "markdown",
   "metadata": {},
   "source": [
    "#### Cohere\n",
    "\n",
    "```Python\n",
    "from langchain_community.chat_models import ChatCohere\n",
    "# Initialize language model\n",
    "os.environ[\"COHERE_API_KEY\"] = \"your-cohere-api-key\"\n",
    "llm = ChatCohere()\n",
    "\n",
    "### you will pass \"llm\" to your agent function\n",
    "```"
   ]
  }
 ],
 "metadata": {
  "colab": {
   "gpuType": "T4",
   "provenance": []
  },
  "kernelspec": {
   "display_name": "Python 3 (ipykernel)",
   "language": "python",
   "name": "python3"
  },
  "language_info": {
   "codemirror_mode": {
    "name": "ipython",
    "version": 3
   },
   "file_extension": ".py",
   "mimetype": "text/x-python",
   "name": "python",
   "nbconvert_exporter": "python",
   "pygments_lexer": "ipython3",
   "version": "3.11.9"
  }
 },
 "nbformat": 4,
 "nbformat_minor": 4
}
